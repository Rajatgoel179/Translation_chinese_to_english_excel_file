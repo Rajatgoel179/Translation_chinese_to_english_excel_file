{
 "cells": [
  {
   "cell_type": "code",
   "execution_count": 1,
   "metadata": {},
   "outputs": [
    {
     "name": "stdout",
     "output_type": "stream",
     "text": [
      "Note: you may need to restart the kernel to use updated packages.Collecting deep-translator\n",
      "  Obtaining dependency information for deep-translator from https://files.pythonhosted.org/packages/38/3f/61a8ef73236dbea83a1a063a8af2f8e1e41a0df64f122233938391d0f175/deep_translator-1.11.4-py3-none-any.whl.metadata\n",
      "  Downloading deep_translator-1.11.4-py3-none-any.whl.metadata (30 kB)\n",
      "Requirement already satisfied: beautifulsoup4<5.0.0,>=4.9.1 in c:\\users\\rajat\\anaconda3\\lib\\site-packages (from deep-translator) (4.12.2)\n",
      "Requirement already satisfied: requests<3.0.0,>=2.23.0 in c:\\users\\rajat\\appdata\\roaming\\python\\python311\\site-packages (from deep-translator) (2.31.0)\n",
      "Requirement already satisfied: soupsieve>1.2 in c:\\users\\rajat\\anaconda3\\lib\\site-packages (from beautifulsoup4<5.0.0,>=4.9.1->deep-translator) (2.4)\n",
      "Requirement already satisfied: charset-normalizer<4,>=2 in c:\\users\\rajat\\appdata\\roaming\\python\\python311\\site-packages (from requests<3.0.0,>=2.23.0->deep-translator) (3.2.0)\n",
      "Requirement already satisfied: idna<4,>=2.5 in c:\\users\\rajat\\appdata\\roaming\\python\\python311\\site-packages (from requests<3.0.0,>=2.23.0->deep-translator) (3.4)\n",
      "Requirement already satisfied: urllib3<3,>=1.21.1 in c:\\users\\rajat\\anaconda3\\lib\\site-packages (from requests<3.0.0,>=2.23.0->deep-translator) (1.26.16)\n",
      "Requirement already satisfied: certifi>=2017.4.17 in c:\\users\\rajat\\appdata\\roaming\\python\\python311\\site-packages (from requests<3.0.0,>=2.23.0->deep-translator) (2023.7.22)\n",
      "Downloading deep_translator-1.11.4-py3-none-any.whl (42 kB)\n",
      "   ---------------------------------------- 0.0/42.3 kB ? eta -:--:--\n",
      "   --------- ------------------------------ 10.2/42.3 kB ? eta -:--:--\n",
      "   --------- ------------------------------ 10.2/42.3 kB ? eta -:--:--\n",
      "   --------- ------------------------------ 10.2/42.3 kB ? eta -:--:--\n",
      "   --------- ------------------------------ 10.2/42.3 kB ? eta -:--:--\n",
      "   --------- ------------------------------ 10.2/42.3 kB ? eta -:--:--\n",
      "   --------- ------------------------------ 10.2/42.3 kB ? eta -:--:--\n",
      "   --------- ------------------------------ 10.2/42.3 kB ? eta -:--:--\n",
      "   --------- ------------------------------ 10.2/42.3 kB ? eta -:--:--\n",
      "   --------- ------------------------------ 10.2/42.3 kB ? eta -:--:--\n",
      "   --------- ------------------------------ 10.2/42.3 kB ? eta -:--:--\n",
      "   --------- ------------------------------ 10.2/42.3 kB ? eta -:--:--\n",
      "   --------- ------------------------------ 10.2/42.3 kB ? eta -:--:--\n",
      "   --------- ------------------------------ 10.2/42.3 kB ? eta -:--:--\n",
      "   ---------------------------------------- 42.3/42.3 kB 47.7 kB/s eta 0:00:00\n",
      "Installing collected packages: deep-translator\n",
      "Successfully installed deep-translator-1.11.4\n",
      "\n"
     ]
    },
    {
     "name": "stderr",
     "output_type": "stream",
     "text": [
      "  WARNING: The scripts deep-translator.exe and dt.exe are installed in 'c:\\Users\\rajat\\anaconda3\\Scripts' which is not on PATH.\n",
      "  Consider adding this directory to PATH or, if you prefer to suppress this warning, use --no-warn-script-location.\n"
     ]
    }
   ],
   "source": [
    "pip install deep-translator"
   ]
  },
  {
   "cell_type": "code",
   "execution_count": 1,
   "metadata": {},
   "outputs": [],
   "source": [
    "import pandas as pd\n",
    "df = pd.read_excel(r\"C:\\Users\\rajat\\Desktop\\Project\\translate\\Order Export.xls\")"
   ]
  },
  {
   "cell_type": "code",
   "execution_count": 2,
   "metadata": {},
   "outputs": [
    {
     "data": {
      "text/plain": [
       "Index(['订单编号', '买家公司名', '买家会员名', '卖家公司名', '卖家会员名', '货品总价(元)', '运费(元)',\n",
       "       '涨价或折扣(元)', '实付款(元)', '订单状态', '订单创建时间', '订单付款时间', '发货方', '收货人姓名',\n",
       "       '收货地址', '邮编', '联系电话', '联系手机', '货品标题', '单价(元)', '数量', '单位', '货号1', '型号',\n",
       "       'Offer ID', 'SKU ID', '物料编号', '单品货号', '货品种类', '买家留言', '物流公司', '运单号',\n",
       "       '发票：购货单位名称', '发票：纳税人识别号', '发票：地址、电话', '发票：开户行及账号', '发票收取地址', '关联编号',\n",
       "       '代理商姓名', '代理商联系方式', '是否代发订单', '代发服务商id', '微商订单号', '下单批次号', '下游渠道',\n",
       "       '下游订单号', '下单公司主体', '发起人登录名', '是否发起免密支付(1:淘货源诚e赊免密支付2:批量下单免密支付)'],\n",
       "      dtype='object')"
      ]
     },
     "execution_count": 2,
     "metadata": {},
     "output_type": "execute_result"
    }
   ],
   "source": [
    "old_col=df.columns\n",
    "old_col"
   ]
  },
  {
   "cell_type": "code",
   "execution_count": 3,
   "metadata": {},
   "outputs": [],
   "source": [
    "from deep_translator import GoogleTranslator\n",
    "import time\n",
    "\n",
    "def translate_chinese_to_english(text):\n",
    "    if isinstance(text, str):\n",
    "        translated_text = GoogleTranslator(source='zh-CN', target='en').translate(text)\n",
    "        return translated_text \n",
    "    else:\n",
    "        return text \n"
   ]
  },
  {
   "cell_type": "code",
   "execution_count": 4,
   "metadata": {},
   "outputs": [
    {
     "name": "stdout",
     "output_type": "stream",
     "text": [
      "order number\n",
      "Buyer company name\n",
      "Buyer member name\n",
      "Seller company name\n",
      "Seller member name\n",
      "Total price of goods (yuan)\n",
      "Shipping fee (yuan)\n",
      "Price increase or discount (yuan)\n",
      "Actual payment (yuan)\n",
      "Order Status\n",
      "Order creation time\n",
      "Order payment time\n",
      "shipper\n",
      "Consignee name\n",
      "Shipping address\n",
      "post code\n",
      "contact number\n",
      "Contact mobile phone\n",
      "Item title\n",
      "Unit price (yuan)\n",
      "quantity\n",
      "unit\n",
      "Item number 1\n",
      "model\n",
      "Offer ID\n",
      "SKU ID\n",
      "Material number\n",
      "Item number\n",
      "Goods type\n",
      "Buyer's message\n",
      "Logistics company\n",
      "Waybill number\n",
      "Invoice: Name of purchasing unit\n",
      "Invoice: Taxpayer Identification Number\n",
      "Invoice: address, phone number\n",
      "Invoice: Opening bank and account number\n",
      "Invoice collection address\n",
      "associated number\n",
      "Agent name\n",
      "Agent contact information\n",
      "Whether to ship orders on behalf of others\n",
      "Shipping service provider ID\n",
      "Wechat business order number\n",
      "Order batch number\n",
      "Downstream channels\n",
      "Downstream order number\n",
      "Order placing company entity\n",
      "Sponsor login name\n",
      "Whether to initiate password-free payment (1: Taohuoyuancheng e-credit password-free payment 2: Batch order payment without password)\n",
      "Translation and saving took 26.46 seconds\n"
     ]
    }
   ],
   "source": [
    "start_time = time.time()\n",
    "\n",
    "new_col = []\n",
    "for col in df.columns:\n",
    "    col_name = translate_chinese_to_english(col)\n",
    "    new_col.append(col_name)\n",
    "    print(col_name)\n",
    "\n",
    "end_time = time.time()\n",
    "\n",
    "elapsed_time = end_time - start_time\n",
    "print(f\"Translation and saving took {elapsed_time:.2f} seconds\")"
   ]
  },
  {
   "cell_type": "code",
   "execution_count": 5,
   "metadata": {},
   "outputs": [
    {
     "data": {
      "text/plain": [
       "Index(['Buyer member name', 'Seller company name', 'Seller member name',\n",
       "       'Order Status', 'shipper', 'Consignee name', 'Shipping address',\n",
       "       'Item title', 'unit', 'Item number 1', 'model', 'Item number',\n",
       "       'Buyer's message', 'Logistics company', 'Waybill number',\n",
       "       'Sponsor login name'],\n",
       "      dtype='object')"
      ]
     },
     "execution_count": 5,
     "metadata": {},
     "output_type": "execute_result"
    }
   ],
   "source": [
    "df.columns=new_col\n",
    "obj_col=df.select_dtypes(\"object\").columns\n",
    "obj_col"
   ]
  },
  {
   "cell_type": "code",
   "execution_count": 6,
   "metadata": {},
   "outputs": [
    {
     "name": "stdout",
     "output_type": "stream",
     "text": [
      "Translation and saving took 391.73 seconds\n"
     ]
    }
   ],
   "source": [
    "start_time = time.time()\n",
    "for col in obj_col:\n",
    "    df[col]=[translate_chinese_to_english(i) for i  in df[col]]\n",
    "end_time = time.time()\n",
    "\n",
    "elapsed_time = end_time - start_time\n",
    "print(f\"Translation and saving took {elapsed_time:.2f} seconds\")"
   ]
  },
  {
   "cell_type": "code",
   "execution_count": 7,
   "metadata": {},
   "outputs": [],
   "source": [
    "df.to_excel(\"output.xlsx\")"
   ]
  },
  {
   "cell_type": "code",
   "execution_count": null,
   "metadata": {},
   "outputs": [],
   "source": []
  }
 ],
 "metadata": {
  "kernelspec": {
   "display_name": "Python 3 (ipykernel)",
   "language": "python",
   "name": "python3"
  },
  "language_info": {
   "codemirror_mode": {
    "name": "ipython",
    "version": 3
   },
   "file_extension": ".py",
   "mimetype": "text/x-python",
   "name": "python",
   "nbconvert_exporter": "python",
   "pygments_lexer": "ipython3",
   "version": "3.11.4"
  }
 },
 "nbformat": 4,
 "nbformat_minor": 2
}
